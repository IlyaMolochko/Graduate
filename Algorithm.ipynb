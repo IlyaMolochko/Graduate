{
 "cells": [
  {
   "cell_type": "code",
   "execution_count": null,
   "metadata": {},
   "outputs": [],
   "source": [
    "import matplotlib.pylab as plt\n",
    "import numpy as np"
   ]
  },
  {
   "cell_type": "markdown",
   "metadata": {},
   "source": [
    "# Непараметрическая постановка"
   ]
  },
  {
   "cell_type": "code",
   "execution_count": null,
   "metadata": {},
   "outputs": [],
   "source": [
    "def Q(alpha):\n",
    "    return 2 * ((2 * delta + 1) * np.cos(alpha) - Bo * U / 2 / pi)"
   ]
  },
  {
   "cell_type": "markdown",
   "metadata": {},
   "source": [
    "Метод прогонки:"
   ]
  },
  {
   "cell_type": "code",
   "execution_count": null,
   "metadata": {},
   "outputs": [],
   "source": [
    "def getZ(a, b, c, f, n):\n",
    "    a_i = [0]\n",
    "    a_i.append(b[0] / c[0])\n",
    "    b_i = [0]\n",
    "    b_i.append(f[0] / c[0])\n",
    "    for i in range(1, n):\n",
    "        a_i.append(b[i] / (c[i] - a[i] * a_i[i]))\n",
    "    for i in range(1, n + 1):\n",
    "        b_i.append((f[i] + a[i] * b_i[i]) / (c[i] - a[i] * a_i[i]))\n",
    "    z = np.full(n + 1, b_i[-1])\n",
    "    for i in reversed(range(n)):\n",
    "        z[i] = a_i[i + 1] * z[i + 1] + b_i[i + 1]\n",
    "    return z"
   ]
  },
  {
   "cell_type": "markdown",
   "metadata": {},
   "source": [
    "Разностная схема для свободной поверхности в капилляре"
   ]
  },
  {
   "cell_type": "code",
   "execution_count": null,
   "metadata": {},
   "outputs": [],
   "source": [
    "def Z(alpha, z, h, n):\n",
    "    kappa1 = 1 / (1 + (1 / 4) * (h ** 2) * Bo)\n",
    "    nu1 = - (1 / 4) * (h ** 2) * Q(alpha) / (1 + (1 / 4) * (h ** 2) * Bo)\n",
    "    kappa2 = 1 / (1 + 1 / 2 * h ** 2 / np.sin(alpha) ** 3 * Bo)\n",
    "    nu2 = (h / np.tan(alpha) - 1 / 2 * h ** 2 / np.sin(alpha) ** 3 * (-np.cos(alpha) / delta + Q(alpha))) * kappa2\n",
    "    a = [0]\n",
    "    for i in range(1, n):\n",
    "        a.append((i - 1 / 2) / (i * h ** 2 * np.sqrt(1 + ((z[i] - z[i - 1]) / h) ** 2)))\n",
    "    a.append(kappa2)\n",
    "    \n",
    "    b = [kappa1]\n",
    "    for i in range(1, n):\n",
    "        b.append((i + 1 / 2) / (i * h ** 2 * np.sqrt(1 + ((z[i + 1] - z[i]) / h) ** 2)))\n",
    "\n",
    "    c = [1]    \n",
    "    for i in range(1, n):\n",
    "        s1 = (i + 1 / 2) / (i * h ** 2 * np.sqrt(1 + ((z[i + 1] - z[i]) / h) ** 2))\n",
    "        s2 = (i - 1 / 2) / (i * h ** 2 * np.sqrt(1 + ((z[i] - z[i - 1]) / h) ** 2))\n",
    "        c.append(s1 + s2 + Bo)\n",
    "    c.append(1)\n",
    "    \n",
    "    f = [-Q(alpha)] * n\n",
    "    f[0] = nu1\n",
    "    f.append(nu2)\n",
    "    \n",
    "    z = getZ(a, b, c, f, n)\n",
    "    return z"
   ]
  },
  {
   "cell_type": "markdown",
   "metadata": {},
   "source": [
    "Разностная схема для свободной поверхности во внешнем сосуде"
   ]
  },
  {
   "cell_type": "code",
   "execution_count": null,
   "metadata": {},
   "outputs": [],
   "source": [
    "def Z2(alpha, z, h, n):\n",
    "    kappa1 = 1 / (1 + 1 / 2 * h ** 2 / np.sin(alpha) ** 3 * Bo)\n",
    "    nu1 = (h / np.tan(alpha) - 1 / 2 * h ** 2 / np.sin(alpha) ** 3 * (np.cos(alpha) / delta + Q(alpha))) * kappa1\n",
    "    kappa2 = kappa1\n",
    "    nu2 = (h / np.tan(alpha) - 1 / 2 * h ** 2 / np.sin(alpha) ** 3 * (-np.cos(alpha) + Q(alpha))) * kappa1\n",
    "    a = [0]\n",
    "    for i in range(1, n):\n",
    "        a.append((delta + h * (i - 1 / 2)) / ((delta + i * h) * h ** 2 * np.sqrt(1 + ((z[i] - z[i - 1]) / h) ** 2)))\n",
    "    a.append(kappa2)\n",
    "    \n",
    "    b = [kappa1]\n",
    "    for i in range(1, n):\n",
    "        b.append((delta + h * (i + 1 / 2)) / ((delta + i * h) * h ** 2 * np.sqrt(1 + ((z[i + 1] - z[i]) / h) ** 2)))\n",
    "\n",
    "    c = [1]    \n",
    "    for i in range(1, n):\n",
    "        s1 = (delta + h * (i + 1 / 2)) / ((delta + i * h) * h ** 2 * np.sqrt(1 + ((z[i + 1] - z[i]) / h) ** 2))\n",
    "        s2 = (delta + h * (i - 1 / 2)) / ((delta + i * h) * h ** 2 * np.sqrt(1 + ((z[i] - z[i - 1]) / h) ** 2))\n",
    "        c.append(s1 + s2 + Bo)\n",
    "    c.append(1)\n",
    "    \n",
    "    f = [-Q(alpha)] * n\n",
    "    f[0] = nu1\n",
    "    f.append(nu2)\n",
    "    \n",
    "    z = getZ(a, b, c, f, n)\n",
    "    return z"
   ]
  },
  {
   "cell_type": "code",
   "execution_count": null,
   "metadata": {},
   "outputs": [],
   "source": [
    "R1 = 0.002\n",
    "R2 = 0.05\n",
    "delta = R1 / R2\n",
    "Bo = 300\n",
    "n = 100\n",
    "U = 3\n",
    "pi = np.pi\n",
    "h = delta / n\n",
    "z0 = U / pi\n",
    "gamma = np.linspace(pi / 2, pi / 4, 10)\n",
    "z = np.full(n + 1, z0)\n",
    "zk = np.full(n + 1, z0)\n",
    "q = 0.1"
   ]
  },
  {
   "cell_type": "code",
   "execution_count": null,
   "metadata": {},
   "outputs": [],
   "source": [
    "for i in gamma:    \n",
    "    z = Z(i, zk, h, n)\n",
    "    z_k = z[:] * q + zk[:] * (1 - q)\n",
    "    while max(abs(z - z_k)) / q >= 1e-06:\n",
    "        zk = z_k\n",
    "        z = Z(i, zk, h, n)\n",
    "        z_k = z[:] * q + zk[:] * (1 - q)\n",
    "    zk = z"
   ]
  },
  {
   "cell_type": "code",
   "execution_count": null,
   "metadata": {},
   "outputs": [],
   "source": [
    "n = int((1 - delta) // h + 1)\n",
    "z2 = np.full(n + 1, U / pi)\n",
    "zk2 = np.full(n + 1, U / pi)"
   ]
  },
  {
   "cell_type": "code",
   "execution_count": null,
   "metadata": {},
   "outputs": [],
   "source": [
    "for i in gamma:    \n",
    "    z2 = Z2(i, zk2, h, n)\n",
    "    z_k2 = z2[:] * q + zk2[:] * (1 - q)\n",
    "    while max(abs(z2 - z_k2)) / q >= 1.0e-6:\n",
    "        zk2 = z_k2\n",
    "        z2 = Z2(i, zk2, h, n)\n",
    "    z_k2 = z2[:] * q + zk2[:] * (1 - q)\n",
    "    zk2 = z2"
   ]
  },
  {
   "cell_type": "markdown",
   "metadata": {},
   "source": [
    "# Параметрическая постановка"
   ]
  },
  {
   "cell_type": "code",
   "execution_count": null,
   "metadata": {},
   "outputs": [],
   "source": [
    "def Q(delta, alpha, Bo, U):\n",
    "    return 2 * ((2 * delta + 1) * math.cos(alpha) - Bo * U / 2 / pi)"
   ]
  },
  {
   "cell_type": "markdown",
   "metadata": {},
   "source": [
    "Метод прогонки:"
   ]
  },
  {
   "cell_type": "code",
   "execution_count": null,
   "metadata": {},
   "outputs": [],
   "source": [
    "def getZ(a, b, c, f, n):\n",
    "    a_i = [0]\n",
    "    a_i.append(b[0] / c[0])\n",
    "    b_i = [0]\n",
    "    b_i.append(f[0] / c[0])\n",
    "    for i in range(1, n - 1):\n",
    "        a_i.append(b[i] / (c[i] - a[i] * a_i[i]))\n",
    "    for i in range(1, n):\n",
    "        b_i.append((f[i] + a[i] * b_i[i]) / (c[i] - a[i] * a_i[i]))\n",
    "    z = np.full(n, b_i[-1])\n",
    "    for i in reversed(range(n - 1)):\n",
    "        z[i] = a_i[i + 1] * z[i + 1] + b_i[i + 1]\n",
    "    return z"
   ]
  },
  {
   "cell_type": "code",
   "execution_count": null,
   "metadata": {},
   "outputs": [],
   "source": [
    "def Z(alpha, z, r, h, n, delta, Bo, U, L1):\n",
    "    a = np.full(n, 1 / h ** 2)\n",
    "    b = np.full(n, 1 / h ** 2)\n",
    "    \n",
    "    kappa1 = 1 / (1 + 0.25 * h ** 2 * Bo * L1 ** 2)\n",
    "    nu1 = -0.25 * h ** 2 * L1 * Q(delta, alpha, Bo, U) / (1 + 0.25 * h ** 2 * Bo * L1 ** 2)\n",
    "    kappa2 = 1 / (1 + 0.5 * h ** 2 * math.sin(alpha) * Bo * L1 ** 2)\n",
    "    nu2 = (h * math.cos(alpha) - 0.5 * h ** 2 * math.sin(alpha) * L1 * (-math.cos(alpha) / delta + Q(delta, alpha, Bo, U))) / (1 + 0.5 * h ** 2 * math.sin(alpha) * Bo * L1 ** 2)\n",
    "    \n",
    "    a[0] = 0\n",
    "    a[-1] = kappa2\n",
    "    b[0] = kappa1\n",
    "    \n",
    "    c = 2 / h ** 2 + Bo * L1 ** 2 * (r[2:] - r[:-2]) / 2 / h\n",
    "    v = [1]\n",
    "    v.extend(c)\n",
    "    v.append(1)\n",
    "    len(v)\n",
    "    c = v\n",
    "    \n",
    "    f = (r[2:] - r[:-2]) / 2 / h * ((z[2:] - z[:-2]) / 2 / h / r[1:-1] - L1 * Q(delta, alpha, Bo, U))\n",
    "    v = [nu1]\n",
    "    v.extend(f)\n",
    "    v.append(nu2)\n",
    "    len(v)\n",
    "    f = v\n",
    "    \n",
    "    z = getZ(a, b, c, f, n)\n",
    "    return z    \n",
    "\n",
    "def R(alpha, z, r, h, n, delta, Bo, U, L1):\n",
    "    a = np.full(n, 1 / h ** 2)\n",
    "    b = np.full(n, 1 / h ** 2)\n",
    "    c = np.full(n, 2 / h ** 2)\n",
    "    \n",
    "    kappa1 = 0\n",
    "    nu1 = 0\n",
    "    kappa2 = 1\n",
    "    nu2 = h * math.sin(alpha) + 0.5 * h ** 2 * math.cos(alpha) * (Bo * L1 ** 2 * z[-1] - L1 / delta * math.cos(alpha) + L1 * Q(delta, alpha, Bo, U))\n",
    "    a[0] = 0\n",
    "    a[-1] = kappa2\n",
    "    b[0] = kappa1\n",
    "    \n",
    "    c[0] = 1\n",
    "    c[-1] = 1\n",
    "    f = []\n",
    "    for i in range(1, len(z) - 1):\n",
    "        f.append((z[i + 1] - z[i - 1]) / 2 / h * (Bo * L1 ** 2 * z[i] - (z[i + 1] - z[i - 1]) / 2 / h / r[i] + L1 * Q(delta, alpha, Bo, U)))\n",
    "    v = [nu1]\n",
    "    v.extend(f)\n",
    "    v.append(nu2)\n",
    "    f = v\n",
    "    \n",
    "    r = getZ(a, b, c, f, n)\n",
    "    return r"
   ]
  },
  {
   "cell_type": "code",
   "execution_count": null,
   "metadata": {},
   "outputs": [],
   "source": [
    "n = 101\n",
    "h = 1 / (n - 1)\n",
    "gamma = np.linspace(alpha, 0, 10)\n",
    "Bo = 300\n",
    "L1 = delta\n",
    "z0 = U / pi / L1\n",
    "z = np.full(n, z0)\n",
    "zk = np.full(n, z0)\n",
    "r = np.linspace(0, delta, n) / L1\n",
    "rk = np.linspace(0, delta, n) / L1\n",
    "q = 0.1"
   ]
  },
  {
   "cell_type": "code",
   "execution_count": null,
   "metadata": {},
   "outputs": [],
   "source": [
    "for i in gamma:\n",
    "    z = Z(i, zk, rk, h, n, delta, Bo, U, L1)\n",
    "    r = R(i, zk, rk, h, n, delta, Bo, U, L1)\n",
    "    L1 = delta / r[-1]\n",
    "\n",
    "    while (max(abs(z - zk)) / q >= 1e-06 or max(abs(r - rk)) / q >= 1e-06):        \n",
    "        zk = z\n",
    "        rk = r        \n",
    "        z = Z(i, zk, rk, h, n, delta, Bo, U, L1) * q + zk[:] * (1 - q)\n",
    "        r = R(i, zk, rk, h, n, delta, Bo, U, L1) * q + rk[:] * (1 - q)\n",
    "        L1 = delta / r[-1]\n",
    "    zk = z\n",
    "    rk = r\n"
   ]
  },
  {
   "cell_type": "code",
   "execution_count": null,
   "metadata": {},
   "outputs": [],
   "source": [
    "Bo = 300\n",
    "n = 2401\n",
    "L2 = 1 - delta\n",
    "z0 = U / pi / L2\n",
    "z2 = np.full(n, z0)\n",
    "zk2 = np.full(n, z0)\n",
    "r2 = np.linspace(delta, 1, n) / L2\n",
    "rk2 = np.linspace(delta, 1, n) / L2\n",
    "gamma = np.linspace(alpha, pi, 100)\n",
    "h2 = 1 / (n - 1)"
   ]
  },
  {
   "cell_type": "code",
   "execution_count": null,
   "metadata": {},
   "outputs": [],
   "source": [
    "for i in gamma:        \n",
    "     \n",
    "    z2 = Z2(i, zk2, rk2, h2, n)\n",
    "    r2 = R2(i, z2, rk2, h2, n)\n",
    "    L2 = 1 / r2[-1] \n",
    "    while max(abs(z2 - zk2)) / q > 1e-06  or max(abs(r2 - rk2)) / q >= 1e-06:\n",
    "        rk2 = r2\n",
    "        zk2 = z2\n",
    "        z2 = Z2(i, zk2, rk2, h2, n)* q + zk2[:] * (1 - q)\n",
    "        r2 = R2(i, zk2, rk2, h2, n) * q + rk2[:] * (1 - q)\n",
    "        L2 = 1 / r2[-1]\n",
    "    rk2 = r2\n",
    "    zk2 = z2"
   ]
  },
  {
   "cell_type": "markdown",
   "metadata": {},
   "source": [
    "Другой алгоритм:"
   ]
  },
  {
   "cell_type": "code",
   "execution_count": null,
   "metadata": {},
   "outputs": [],
   "source": [
    "def Z(alpha, z, r, h, n, delta, Bo, U, L1):\n",
    "    a = np.full(n, 1 / h ** 2)\n",
    "    b = np.full(n, 1 / h ** 2)\n",
    "    \n",
    "    kappa1 = 1 / (1 + 0.25 * h ** 2 * Bo * L1 ** 2)\n",
    "    nu1 = -0.25 * h ** 2 * L1 * Q(delta, alpha, Bo, U) / (1 + 0.25 * h ** 2 * Bo * L1 ** 2)\n",
    "    kappa2 = 1 / (1 + 0.5 * h ** 2 * math.sin(alpha) * Bo * L1 ** 2)\n",
    "    nu2 = (h * math.cos(alpha) - 0.5 * h ** 2 * math.sin(alpha) * L1 * (-math.cos(alpha) / delta + Q(delta, alpha, Bo, U))) / (1 + 0.5 * h ** 2 * math.sin(alpha) * Bo * L1 ** 2)\n",
    "    \n",
    "    a[0] = 0\n",
    "    a[-1] = kappa2\n",
    "    b[0] = kappa1\n",
    "    \n",
    "    c = 2 / h ** 2 + Bo * L1 ** 2 * (r[2:] - r[:-2]) / 2 / h\n",
    "    v = [1]\n",
    "    v.extend(c)\n",
    "    v.append(1)\n",
    "    len(v)\n",
    "    c = v\n",
    "    \n",
    "    f = (r[2:] - r[:-2]) / 2 / h * ((z[2:] - z[:-2]) / 2 / h / r[1:-1] - L1 * Q(delta, alpha, Bo, U))\n",
    "    v = [nu1]\n",
    "    v.extend(f)\n",
    "    v.append(nu2)\n",
    "    len(v)\n",
    "    f = v\n",
    "    \n",
    "    z = getZ(a, b, c, f, n)\n",
    "    return z    \n",
    "\n",
    "def R(alpha, z, r, h, n, delta, Bo, U, L1):\n",
    "    r[0] = 0\n",
    "    for i in range(1, n):\n",
    "        r[i] = r[i - 1] + h * math.sqrt(1 - ((z[i + 1] - z[i - 1]) / h) ** 2)\n",
    "    return r"
   ]
  },
  {
   "cell_type": "code",
   "execution_count": null,
   "metadata": {},
   "outputs": [],
   "source": [
    "n = 101\n",
    "h = 1 / (n - 1)\n",
    "gamma = np.linspace(alpha, 0, 100)\n",
    "Bo = 300\n",
    "L1 = delta\n",
    "z0 = U / pi / L1\n",
    "z = np.full(n, z0)\n",
    "zk = np.full(n, z0)\n",
    "r = np.linspace(0, delta, n) / L1\n",
    "rk = np.linspace(0, delta, n) / L1\n",
    "q = 0.1"
   ]
  },
  {
   "cell_type": "code",
   "execution_count": null,
   "metadata": {},
   "outputs": [],
   "source": [
    "for i in gamma:    \n",
    "    z = Z(i, zk, rk, h, n, delta, Bo, U, L1)\n",
    "    r = R(i, z, rk, h, n, delta, Bo, U, L1)\n",
    "    L1 = delta / r[-1]\n",
    "\n",
    "    while (max(abs(z - zk)) / q > 1e-06 or max(abs(r - rk)) / q > 1e-06):        \n",
    "        zk = z\n",
    "        rk = r\n",
    "        z = Z(i, zk, rk, h, n, delta, Bo, U, L1) * q + zk[:] * (1 - q)\n",
    "        r = R(i, zk, rk, h, n, delta, Bo, U, L1) * q + rk[:] * (1 - q)\n",
    "        L1 = delta / r[-1]        \n",
    "    zk = z\n",
    "    rk = r        "
   ]
  },
  {
   "cell_type": "code",
   "execution_count": null,
   "metadata": {},
   "outputs": [],
   "source": [
    "def Z2(alpha, z, r, h, n):\n",
    "    a = np.full(n, 1 / h ** 2)\n",
    "    b = np.full(n, 1 / h ** 2)\n",
    "    \n",
    "    kappa1 = 1 / (1 + 0.5 * h ** 2 * math.sin(alpha) * Bo * L2 ** 2)\n",
    "    nu1 = (h * math.cos(alpha) - 0.5 * h ** 2 * math.sin(alpha) * L2 * (math.cos(alpha) / delta + Q(delta, alpha, Bo, U))) / (1 + 0.5 * h ** 2 * math.sin(alpha) * Bo * L2 ** 2)\n",
    "    kappa2 = 1 / (1 + 0.5 * h ** 2 * math.sin(alpha) * Bo * L2 ** 2)\n",
    "    nu2 = (h * math.cos(alpha) - 0.5 * h ** 2 * math.sin(alpha) * L2 * (-math.cos(alpha) + Q(delta, alpha, Bo, U))) / (1 + 0.5 * h ** 2 * math.sin(alpha) * Bo * L2 ** 2)\n",
    "    \n",
    "    a[0] = 0\n",
    "    a[-1] = kappa2\n",
    "    b[0] = kappa1\n",
    "    \n",
    "    c = 2 / h ** 2 + Bo * L2 ** 2 * (r[2:] - r[:-2]) / 2 / h\n",
    "    v = [1]\n",
    "    v.extend(c)\n",
    "    v.append(1)\n",
    "    len(v)\n",
    "    c = v\n",
    "    \n",
    "    f = (r[2:] - r[:-2]) / 2 / h * ((z[2:] - z[:-2]) / 2 / h / r[1:-1] - L2 * Q(delta, alpha, Bo, U))\n",
    "    v = [nu1]\n",
    "    v.extend(f)\n",
    "    v.append(nu2)\n",
    "    len(v)\n",
    "    f = v\n",
    "    \n",
    "    z = getZ(a, b, c, f, n)\n",
    "    return z    \n",
    "def R2(alpha, z, r, h, n):\n",
    "    r[0] = delta / L2\n",
    "    for i in range(1, n):\n",
    "        r[i] = r[i - 1] + h * math.sqrt(1 - ((z[i + 1] - z[i - 1]) / h) ** 2)\n",
    "    return r"
   ]
  },
  {
   "cell_type": "code",
   "execution_count": null,
   "metadata": {},
   "outputs": [],
   "source": [
    "Bo = 300\n",
    "n = 2401\n",
    "L2 = 1 - delta\n",
    "z0 = U / pi / L2\n",
    "z2 = np.full(n, z0)\n",
    "zk2 = np.full(n, z0)\n",
    "r2 = np.linspace(delta, 1, n) / L2\n",
    "rk2 = np.linspace(delta, 1, n) / L2\n",
    "gamma = np.linspace(alpha, 3 * pi / 4, 10)\n",
    "h2 = 1 / (n - 1)\n",
    "for i in gamma:\n",
    "    z2 = Z2(i, zk2, rk2, h2, n)\n",
    "    r2 = R2(i, z2, rk2, h2, n)\n",
    "    L2 = 1 / r2[-1] \n",
    "\n",
    "    while max(abs(z2 - zk2)) / q > 1e-06  or max(abs(r2 - rk2)) / q >= 1e-06:\n",
    "        rk2 = r2\n",
    "        zk2 = z2\n",
    "        z2 = Z2(i, zk2, rk2, h2, n) * q + zk2[:] * (1 - q)\n",
    "        r2 = R2(i, zk2, rk2, h2, n) * q + rk2[:] * (1 - q)\n",
    "        L2 = 1 / r2[-1]\n",
    "        \n",
    "    rk2 = r2\n",
    "    zk2 = z2"
   ]
  }
 ],
 "metadata": {
  "kernelspec": {
   "display_name": "Python 3",
   "language": "python",
   "name": "python3"
  },
  "language_info": {
   "codemirror_mode": {
    "name": "ipython",
    "version": 3
   },
   "file_extension": ".py",
   "mimetype": "text/x-python",
   "name": "python",
   "nbconvert_exporter": "python",
   "pygments_lexer": "ipython3",
   "version": "3.6.4"
  }
 },
 "nbformat": 4,
 "nbformat_minor": 2
}
